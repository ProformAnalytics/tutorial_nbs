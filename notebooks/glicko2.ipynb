{
 "cells": [
  {
   "cell_type": "code",
   "execution_count": 15,
   "metadata": {},
   "outputs": [],
   "source": [
    "import numpy as np\n",
    "import pandas as pd"
   ]
  },
  {
   "cell_type": "markdown",
   "metadata": {},
   "source": [
    "#### Introduction\n",
    "\n",
    "[Glicko2](https://en.wikipedia.org/wiki/Glicko_rating_system) is a rating system for assessing the relative strength of players in games of skill. The inventor, M. Glickman, produced an example document covering the basic implementation of the Glicko2 system that can be read [here](http://www.glicko.net/glicko/glicko2.pdf).\n",
    "\n",
    "This notebook contains a Python implementation of the code in Glickman's example document. This notebook alone likely doesn't make a great deal of sense, it should be read alongside Glickman's example."
   ]
  },
  {
   "cell_type": "markdown",
   "metadata": {},
   "source": [
    "#### Constants\n",
    "\n",
    "Here $\\tau$ is defined as at the end of pg. 4."
   ]
  },
  {
   "cell_type": "code",
   "execution_count": 16,
   "metadata": {},
   "outputs": [],
   "source": [
    "# Tau constrains the change in volatility over time\n",
    "TAU = 0.5 \n",
    "#For numerical convergence\n",
    "EPSILON = 0.0000001 "
   ]
  },
  {
   "cell_type": "markdown",
   "metadata": {},
   "source": [
    "#### Functions\n",
    "\n",
    "I've pulled these out to the start of the notebook either because they're used in several places or they're understood better in isolation."
   ]
  },
  {
   "cell_type": "code",
   "execution_count": 17,
   "metadata": {},
   "outputs": [],
   "source": [
    "def convert_to_g2(r, RD):\n",
    "    \"\"\"\n",
    "    This method is Step 2 of the example\n",
    "    \"\"\"\n",
    "    mu = (r-1500) / 173.7178\n",
    "    phi = RD / 173.7178\n",
    "    return mu, phi\n",
    "\n",
    "def convert_from_g2(mu, phi):\n",
    "    \"\"\"\n",
    "    This method is Step 8 of the example\n",
    "    \"\"\"\n",
    "    r = 173.7178*mu + 1500\n",
    "    RD = 173.7178*phi\n",
    "    return r, RD\n",
    "\n",
    "def g_fun(phi):\n",
    "    \"\"\"\n",
    "    This is the function g defined in Step 3\n",
    "    \"\"\"\n",
    "    den = np.sqrt(1 + (3*phi**2)/(np.pi**2))\n",
    "    return 1./den\n",
    "\n",
    "def E_fun(mu, mu_j, phi_j):\n",
    "    \"\"\"\n",
    "    This is the function E defined in step 3\n",
    "    \"\"\"\n",
    "    den = 1 + np.exp(-g_fun(phi_j)*(mu - mu_j))\n",
    "    return 1./den"
   ]
  },
  {
   "cell_type": "markdown",
   "metadata": {},
   "source": [
    "#### The example data\n",
    "\n",
    "This is the data defined in the **Example calculation** outlined at the bottom of page 4. Putting together this example is Step 1 in the procedure."
   ]
  },
  {
   "cell_type": "code",
   "execution_count": 18,
   "metadata": {},
   "outputs": [],
   "source": [
    "# Player in given example\n",
    "r, RD, sigma = 1500, 200, 0.06\n",
    "\n",
    "# Opponents from example (r, RD, s)\n",
    "opps = [\n",
    "    (1400, 30, 1),\n",
    "    (1550, 100, 0),\n",
    "    (1700, 300, 0)\n",
    "]"
   ]
  },
  {
   "cell_type": "markdown",
   "metadata": {},
   "source": [
    "#### The Glicko 2 algorithm\n",
    "\n",
    "This is the code for Steps 2-8."
   ]
  },
  {
   "cell_type": "code",
   "execution_count": 19,
   "metadata": {},
   "outputs": [
    {
     "data": {
      "text/plain": [
       "(0.0, 1.1512924985234674)"
      ]
     },
     "execution_count": 19,
     "metadata": {},
     "output_type": "execute_result"
    }
   ],
   "source": [
    "# Step 2 convert player score\n",
    "mu, phi = convert_to_g2(r, RD)\n",
    "mu, phi"
   ]
  },
  {
   "cell_type": "code",
   "execution_count": 20,
   "metadata": {},
   "outputs": [
    {
     "data": {
      "text/html": [
       "<div>\n",
       "<style scoped>\n",
       "    .dataframe tbody tr th:only-of-type {\n",
       "        vertical-align: middle;\n",
       "    }\n",
       "\n",
       "    .dataframe tbody tr th {\n",
       "        vertical-align: top;\n",
       "    }\n",
       "\n",
       "    .dataframe thead th {\n",
       "        text-align: right;\n",
       "    }\n",
       "</style>\n",
       "<table border=\"1\" class=\"dataframe\">\n",
       "  <thead>\n",
       "    <tr style=\"text-align: right;\">\n",
       "      <th></th>\n",
       "      <th>mu_j</th>\n",
       "      <th>phi_j</th>\n",
       "      <th>g_j</th>\n",
       "      <th>E_j</th>\n",
       "      <th>s_j</th>\n",
       "    </tr>\n",
       "  </thead>\n",
       "  <tbody>\n",
       "    <tr>\n",
       "      <th>0</th>\n",
       "      <td>-0.575646</td>\n",
       "      <td>0.172694</td>\n",
       "      <td>0.995498</td>\n",
       "      <td>0.639468</td>\n",
       "      <td>1</td>\n",
       "    </tr>\n",
       "    <tr>\n",
       "      <th>1</th>\n",
       "      <td>0.287823</td>\n",
       "      <td>0.575646</td>\n",
       "      <td>0.953149</td>\n",
       "      <td>0.431842</td>\n",
       "      <td>0</td>\n",
       "    </tr>\n",
       "    <tr>\n",
       "      <th>2</th>\n",
       "      <td>1.151292</td>\n",
       "      <td>1.726939</td>\n",
       "      <td>0.724235</td>\n",
       "      <td>0.302841</td>\n",
       "      <td>0</td>\n",
       "    </tr>\n",
       "  </tbody>\n",
       "</table>\n",
       "</div>"
      ],
      "text/plain": [
       "       mu_j     phi_j       g_j       E_j  s_j\n",
       "0 -0.575646  0.172694  0.995498  0.639468    1\n",
       "1  0.287823  0.575646  0.953149  0.431842    0\n",
       "2  1.151292  1.726939  0.724235  0.302841    0"
      ]
     },
     "execution_count": 20,
     "metadata": {},
     "output_type": "execute_result"
    }
   ],
   "source": [
    "# Step 2/3\n",
    "# This builds the example table at the top of page 5.\n",
    "data = []\n",
    "for j in [0,1,2]:\n",
    "    rj, RDj, sj = opps[j]   \n",
    "    muj, phij = convert_to_g2(rj, RDj)\n",
    "    \n",
    "    gj = g_fun(phij)\n",
    "    Ej = E_fun(mu, muj, phij)\n",
    "    \n",
    "    data.append([muj, phij, gj, Ej, sj])\n",
    "   \n",
    "pd.DataFrame(data, columns = ['mu_j', 'phi_j', 'g_j', 'E_j', 's_j'])"
   ]
  },
  {
   "cell_type": "code",
   "execution_count": 21,
   "metadata": {},
   "outputs": [
    {
     "data": {
      "text/plain": [
       "1.7789770897239976"
      ]
     },
     "execution_count": 21,
     "metadata": {},
     "output_type": "execute_result"
    }
   ],
   "source": [
    "# Step 3 - compute v\n",
    "# Note: this value differs from the example on pg. 5 because\n",
    "# that calculation rounds the values in the table first\n",
    "v = 1./np.sum([r[2]**2 * r[3] * (1-r[3]) for r in data])\n",
    "v "
   ]
  },
  {
   "cell_type": "code",
   "execution_count": 22,
   "metadata": {},
   "outputs": [
    {
     "data": {
      "text/plain": [
       "-0.4839332609836549"
      ]
     },
     "execution_count": 22,
     "metadata": {},
     "output_type": "execute_result"
    }
   ],
   "source": [
    "# Step 4 - compute Delta\n",
    "delta = v*np.sum([r[2]*(r[4] - r[3]) for r in data])\n",
    "delta"
   ]
  },
  {
   "cell_type": "code",
   "execution_count": 23,
   "metadata": {},
   "outputs": [
    {
     "name": "stdout",
     "output_type": "stream",
     "text": [
      "Init A: -5.626821433520073\n",
      "Init B: -6.126821433520073\n",
      "sigma_dash:  0.059995984286488495\n"
     ]
    },
    {
     "data": {
      "text/html": [
       "<div>\n",
       "<style scoped>\n",
       "    .dataframe tbody tr th:only-of-type {\n",
       "        vertical-align: middle;\n",
       "    }\n",
       "\n",
       "    .dataframe tbody tr th {\n",
       "        vertical-align: top;\n",
       "    }\n",
       "\n",
       "    .dataframe thead th {\n",
       "        text-align: right;\n",
       "    }\n",
       "</style>\n",
       "<table border=\"1\" class=\"dataframe\">\n",
       "  <thead>\n",
       "    <tr style=\"text-align: right;\">\n",
       "      <th></th>\n",
       "      <th>Iteration</th>\n",
       "      <th>A</th>\n",
       "      <th>B</th>\n",
       "      <th>fA</th>\n",
       "      <th>fB</th>\n",
       "    </tr>\n",
       "  </thead>\n",
       "  <tbody>\n",
       "    <tr>\n",
       "      <th>0</th>\n",
       "      <td>0</td>\n",
       "      <td>-5.626821</td>\n",
       "      <td>-6.126821</td>\n",
       "      <td>-0.000536</td>\n",
       "      <td>1.999675e+00</td>\n",
       "    </tr>\n",
       "    <tr>\n",
       "      <th>1</th>\n",
       "      <td>1</td>\n",
       "      <td>-5.626821</td>\n",
       "      <td>-5.626955</td>\n",
       "      <td>-0.000268</td>\n",
       "      <td>1.522830e-08</td>\n",
       "    </tr>\n",
       "  </tbody>\n",
       "</table>\n",
       "</div>"
      ],
      "text/plain": [
       "   Iteration         A         B        fA            fB\n",
       "0          0 -5.626821 -6.126821 -0.000536  1.999675e+00\n",
       "1          1 -5.626821 -5.626955 -0.000268  1.522830e-08"
      ]
     },
     "execution_count": 23,
     "metadata": {},
     "output_type": "execute_result"
    }
   ],
   "source": [
    "# Step 5 - Numerical iteration\n",
    "def f(x):\n",
    "    lnum = np.exp(x)*(delta**2 - phi**2 - v - np.exp(x))\n",
    "    lden = 2*(phi**2 + v + np.exp(x))**2\n",
    "    \n",
    "    rnum = (x-a)\n",
    "    rden = TAU**2\n",
    "    \n",
    "    return lnum/lden - rnum/rden\n",
    "\n",
    "#Init params\n",
    "a = np.log(sigma**2)\n",
    "A = np.log(sigma**2)\n",
    "print('Init A:', A) \n",
    "\n",
    "#Get the initial B\n",
    "if delta**2 > phi**2 + v:\n",
    "    B = np.log(delta**2 - phi**2 - v)\n",
    "else:\n",
    "    k = 1\n",
    "    while f(a - k*TAU) < 0:\n",
    "        k+=1\n",
    "    B = a-k*TAU\n",
    "    \n",
    "print('Init B:', B)\n",
    "\n",
    "# Numerical procedure \n",
    "# this records convergence history in c_rows\n",
    "c_rows, itr = [], 0\n",
    "fA, fB = f(A), f(B)\n",
    "while np.abs(B-A) > EPSILON:\n",
    "    C = A + (A-B)*fA / (fB - fA)\n",
    "    fC = f(C)\n",
    "    c_rows.append([itr, A, B, fA, fB])\n",
    "\n",
    "    if fC*fB < 0:\n",
    "        A = B\n",
    "        fA = fB\n",
    "    else:\n",
    "        fA = fA/2.\n",
    "        \n",
    "    B = C\n",
    "    fB = fC\n",
    "    itr+=1\n",
    "    \n",
    "sigma_dash = np.exp(A/2)\n",
    "print(\"sigma_dash: \", sigma_dash)\n",
    "pd.DataFrame(c_rows, columns = ['Iteration', 'A', 'B','fA', 'fB'])"
   ]
  },
  {
   "cell_type": "code",
   "execution_count": 24,
   "metadata": {},
   "outputs": [
    {
     "data": {
      "text/plain": [
       "1.1528546895801364"
      ]
     },
     "execution_count": 24,
     "metadata": {},
     "output_type": "execute_result"
    }
   ],
   "source": [
    "#Step 6\n",
    "phi_star = np.sqrt(phi**2 + sigma_dash**2)\n",
    "phi_star"
   ]
  },
  {
   "cell_type": "code",
   "execution_count": 25,
   "metadata": {},
   "outputs": [
    {
     "data": {
      "text/plain": [
       "(0.8721991881307343, -0.20694096667525494)"
      ]
     },
     "execution_count": 25,
     "metadata": {},
     "output_type": "execute_result"
    }
   ],
   "source": [
    "#Step 7 \n",
    "phi_dash = 1./np.sqrt(1./phi_star**2 + 1./v)\n",
    "mu_dash = mu + (phi_dash**2)*np.sum([r[2]*(r[4] - r[3]) for r in data])\n",
    "\n",
    "phi_dash, mu_dash"
   ]
  },
  {
   "cell_type": "code",
   "execution_count": 27,
   "metadata": {},
   "outputs": [
    {
     "data": {
      "text/plain": [
       "(1464.0506705393013, 151.51652412385727, 0.059995984286488495)"
      ]
     },
     "execution_count": 27,
     "metadata": {},
     "output_type": "execute_result"
    }
   ],
   "source": [
    "#Step8 - convert back to r/RD form\n",
    "r_dash, RD_dash = convert_from_g2(mu_dash, phi_dash)\n",
    "\n",
    "# The fianl updated rating\n",
    "r_dash, RD_dash, sigma_dash"
   ]
  }
 ],
 "metadata": {
  "kernelspec": {
   "display_name": "Python 3",
   "language": "python",
   "name": "python3"
  },
  "language_info": {
   "codemirror_mode": {
    "name": "ipython",
    "version": 3
   },
   "file_extension": ".py",
   "mimetype": "text/x-python",
   "name": "python",
   "nbconvert_exporter": "python",
   "pygments_lexer": "ipython3",
   "version": "3.6.8"
  }
 },
 "nbformat": 4,
 "nbformat_minor": 2
}
